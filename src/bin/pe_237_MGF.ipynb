{
 "cells": [
  {
   "cell_type": "markdown",
   "metadata": {},
   "source": [
    "note $a_i: 0, 1, 1 ,4, 8,.. $\n",
    "\n",
    "$S_i: 0, 1, 2, 6, 14,...$\n",
    "\n",
    "check [MGF recurrence relation](https://www.math.cmu.edu/~af1p/Teaching/Combinatorics/Slides/Generating-Functions.pdf)"
   ]
  },
  {
   "cell_type": "markdown",
   "metadata": {},
   "source": [
    "\\begin{align}\n",
    "     & a_n = a_{n-1} + 3a_{n-2}+ a_{n-3} + 2 a_{n-4}+ \\dots + 2 a_{1} \\\\\n",
    "    \\Rightarrow & S_n - S_{n-1} = S_{n-1} + 2 S_{n-2} - 2S_{n-3}+S_{n-4}\\\\\n",
    "    MGF\\Rightarrow & \\sum_{n\\geq 4} (S_n - (2S_{n-1}+ 2 S_{n-2} - 2S_{n-3}+S_{n-4})) x^n = 0 \\\\\n",
    "    \\Rightarrow & s(x) - S_0- S_1 x - S_2 x^2 -S_3 x^3 \\\\\n",
    "                & -2x(s(x) - S_0 -S_1 x -S_2 x^2 ) \\\\\n",
    "                & -2x^2(s(x) - S_0 - S_1 x ) \\\\\n",
    "                & +2x^3 (s(x) - S_0) \\\\\n",
    "                & - x^4s(x) = 0 \\\\\n",
    "    \\Rightarrow & f(x) s(x) = g(x) \\\\\n",
    " \\text{where }  & f(x) = (1-2x-2x^2+2x^3-x^4)\\\\\n",
    "                & g(x) = x\n",
    "\\end{align}"
   ]
  },
  {
   "cell_type": "markdown",
   "metadata": {},
   "source": [
    "it's easy to know $a(x)=(1-x)s(x)$. but Wolfram showed $f(x)$ has two real roots and two complex roots, which are not simple form."
   ]
  }
 ],
 "metadata": {
  "kernelspec": {
   "display_name": "Python 3",
   "language": "python",
   "name": "python3"
  },
  "language_info": {
   "codemirror_mode": {
    "name": "ipython",
    "version": 3
   },
   "file_extension": ".py",
   "mimetype": "text/x-python",
   "name": "python",
   "nbconvert_exporter": "python",
   "pygments_lexer": "ipython3",
   "version": "3.7.2"
  }
 },
 "nbformat": 4,
 "nbformat_minor": 2
}
